{
  "nbformat": 4,
  "nbformat_minor": 0,
  "metadata": {
    "colab": {
      "provenance": [],
      "include_colab_link": true
    },
    "kernelspec": {
      "name": "python3",
      "display_name": "Python 3"
    },
    "language_info": {
      "name": "python"
    }
  },
  "cells": [
    {
      "cell_type": "markdown",
      "metadata": {
        "id": "view-in-github",
        "colab_type": "text"
      },
      "source": [
        "<a href=\"https://colab.research.google.com/github/laysapeixoto/Stellar-Simulator/blob/main/star_surface.ipynb\" target=\"_parent\"><img src=\"https://colab.research.google.com/assets/colab-badge.svg\" alt=\"Open In Colab\"/></a>"
      ]
    },
    {
      "cell_type": "markdown",
      "source": [
        "# Star surface interface\n",
        "\n",
        "\n",
        "\n"
      ],
      "metadata": {
        "id": "fgjAKO2s4Scq"
      }
    },
    {
      "cell_type": "code",
      "execution_count": null,
      "metadata": {
        "id": "LgtsGBWp030m",
        "outputId": "b26a24c4-ffcd-4ed0-a3e8-2ca019d309be",
        "colab": {
          "base_uri": "https://localhost:8080/",
          "height": 133
        }
      },
      "outputs": [
        {
          "output_type": "error",
          "ename": "SyntaxError",
          "evalue": "ignored",
          "traceback": [
            "\u001b[0;36m  File \u001b[0;32m\"<ipython-input-1-3321d95f4dad>\"\u001b[0;36m, line \u001b[0;32m46\u001b[0m\n\u001b[0;31m    canvas2 = tk.Canvas(root, height=400, width=400, bg=*#171717,bd=0, highlightthickness=0, relief='ridge')\u001b[0m\n\u001b[0m                                                        ^\u001b[0m\n\u001b[0;31mSyntaxError\u001b[0m\u001b[0;31m:\u001b[0m invalid syntax\n"
          ]
        }
      ],
      "source": [
        "import tkinter as tk\n",
        "from tkinter import ttk\n",
        "from tkinter import *\n",
        "import PIL\n",
        "from PIL import ImageTk, Image\n",
        "\n",
        "FULL_STAR_DESC = 'O Sol é uma estrela do tipo G - anã amarela e tem cerca de 4,5 bilhões de anos. Seu destino é tornar-se uma anã branca.'\n",
        "STAR_FACT = 'Nosso Sol é uma estrela de 4,5 bilhões de anos de idade – uma bola quente e brilhante de hidrogênio e hélio no centro do nosso sistema solar. O Sol está a cerca de 93 milhões de milhas (150 milhões de quilômetros) da Terra, e sem sua energia, a vida como a conhecemos não poderia existir aqui em nosso planeta natal.'\n",
        "\n",
        "FULL_SIRIUSB_DESC = 'Sirius B faz parte do sistema binário Sirius e é uma anã branca, tipo DA2'\n",
        "SIRIUSB_FACT = 'A massa solar do Sirius B é 1,018 vezes a da nossa estrela, o Sol. A idade de Sirius B, de acordo com os arquivos de dados da Hipparcos, colocou a estrela em uma idade de cerca de 0,228 bilhão de anos, mas pode ter entre 0,218 e 0,238 bilhões de anos.'\n",
        "\n",
        "FULL_SIRIUSA_DESC = 'Sirius A é uma estrela branca da sequência principal com a classificação espectral A0mA1 Va.'\n",
        "SIRIUSA_FACT = 'Sirius A é uma estrela de linha metálica (estrela Am), com um espectro que mostra fortes linhas de absorção de elementos mais pesados que o hélio. Tem 316% da abundância de ferro do Sol. '\n",
        "\n",
        "FULL_ALDEBARAN_DESC = 'Aldebaran (α Tauri) é uma estrela na direção da constelação de Taurus, marca o olho do Touro celestial, uma estrela gigante do tipo espectral K5+ III.'\n",
        "ALDEBARAN_FACT = 'Ele esgotou o suprimento de hidrogênio em seu núcleo e, à medida que evoluiu da sequência principal, começou a se expandir para seu tamanho atual. Agora está no ramo da gigante vermelha (RGB), na fase de queima da casca de hidrogênio.'\n",
        "\n",
        "FULL_BARNARD_DESC = 'A Estrela de Barnard é uma anã vermelha localizada a apenas 5,96 anos-luz de distância na constelação de Ofiúco. É a quarta estrela individual mais próxima da Terra, depois dos três componentes do sistema Alpha Centauri. '\n",
        "BARNARD_FACT = 'A Estrela de Barnard é uma anã vermelha do tipo espectral M4.0V. É muito menor, menos massivo e mais frio que o Sol. Com uma massa de 0,144 massas solares, a Estrela de Barnard pode permanecer na sequência principal por mais de 2 trilhões de anos, seguida por alguns bilhões de anos como uma anã azul e, finalmente, uma anã branca.  Quando a Estrela de Barnard evoluir para uma anã azul, ela terá uma temperatura de superfície de 6.500 a 8.500 K e brilhará com um terço da luminosidade do Sol.'\n",
        "\n",
        "FULL_BETELGEUSE_DESC = 'Betelgeuse (α Ori) é uma estrela supergigante vermelha localizada na constelação de Orion, o Caçador.'\n",
        "BETELGEUE_FACT = 'BEtelgeuse é uma estrela massiva que evoluiu rapidamente e já está se aproximando do fim de seu ciclo de vida. Vai sair como uma supernova em um futuro relativamente próximo. Quando o fizer, liberará seu estoque de matéria-prima necessária para criar uma nova geração de estrelas.'\n",
        "\n",
        "GREEN = '8dc24e'\n",
        "\n",
        "HEIGHT = 700\n",
        "WIDTH = 9000\n",
        "\n",
        "root = tk.Tk()\n",
        "root.title('Seja bem-vindo(a) ao Stellar Simulator!')\n",
        "\n",
        "\n",
        "\n",
        "\n",
        "\n",
        "\n",
        "\n",
        "def star(event):\n",
        "  planet_type = clicked.get()\n",
        "\n",
        "  if star_type == option[0]:\n",
        "    image = image.open('sun.png')\n",
        "    basewidth = 400\n",
        "\n",
        "    canvas2 = tk.Canvas(root, height=400, width=400, bg=*#171717,bd=0, highlightthickness=0, relief='ridge')\n",
        "    wpercent = (basewidth / float(image.size[0]))\n",
        "    hsize = int((float (image.size[1]) * float(wpercent)))\n",
        "    image = image.resize((basewidth,hsize),PIL.Image.ANTIALIAS)\n",
        "    photo = ImageTk.PhotoImage(image)\n",
        "    item4 = canvas2.create_image(225, 210, image=photo)\n",
        "\n",
        "    canvas2.place(relx=0.05, rely-0,1, relheight=0.6, relwidth-0.5)\n",
        " \n",
        "     for widget in desc_frame.winfo_children():\n",
        "         widget.destroy()\n",
        "     for widget in fact_framc.winfo_children():\n",
        "         widget.destroy()\n",
        "\n",
        "     star_label = tk.Label(desc_frame, text='FULL_STAR_DESC', font=('Gadugi',9), bg='#121212', fg='white')\n",
        "     star_label.pack()\n",
        "\n",
        "     star_fact = tk.Label(fact_frame, text='STAR_FACT', font=('Monotype Corsiva',16), bg='#121212', fg='white')\n",
        "     star_fact.pack(side='left')\n",
        "\n",
        "\n",
        "\n",
        "\n",
        "     item4.pack()\n",
        "\n",
        "\n",
        "\n",
        "\n",
        "\n",
        "\n",
        "\n",
        "\n",
        "\n",
        "\n",
        "\n",
        "\n",
        "canvas = tk.Canvas(root, height=HEIGHT, width=WIDTH, bg='171717')\n",
        "canvas.pack()\n",
        "\n",
        "\n",
        "desc_frame = tk.Frame(root, bg='#121212\")\n",
        "desc_frame.place(relx=0.6, rely-0.1, relheight=0.6, relwidth=0.35)\n",
        "fact_frame = tk.Frame(root, bg='#121212\")\n",
        "fact_frame.place(relx=0.05,rely=0.72,relheight=0.2,relwidth=0.9)\n",
        "option = ('Sun', \"Betelgeuse', 'Siriub B', 'Sirius A', 'Barnard', 'Aldebaran')\n",
        "clicked = StringVar()\n",
        "clicked.set(option[0])\n",
        "drop = OptionMenu(root, clicked, *option)\n",
        "drop.config(bg='#121212',fg=GREEN)\n",
        "drop.place(relx 0.4, rely 0.01, relheight 0.05, relwidth 0.1)\n",
        "\n",
        "button = tk.Button(canvas, text='Get Info\")\n",
        "button.config(bg=\"#121212',fR-GREEN)\n",
        "button.bind('<Button-1)',star)\n",
        "button.place(relx=0.4,rely=0.01,relheight=0.05,relwidth=0.1)\n",
        "\n",
        "text = 'Seja bem-vindo(a) ao Stellar Simulator! \\n \\n \\n Escolha uma estrela para começar... \\n \\n \\n '\n",
        "text2 = 'As informações aparecerão nessa caixa!\n",
        "\n",
        "initial_label = tk.label(fact_frame, text=text2, font=('Gadugi',12), bg='#121212', fg='white')\n",
        "initial_label.pack()\n",
        "\n",
        "initial_label2 = tk.label(fact_frame, text=text2, font=('Monotype Corsiva',18), bg='#121212', fg='white')\n",
        "initial_label2.pack(side='left')"
      ]
    }
  ]
}